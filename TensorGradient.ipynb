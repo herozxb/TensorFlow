{
 "cells": [
  {
   "cell_type": "code",
   "execution_count": 1,
   "metadata": {
    "collapsed": true
   },
   "outputs": [],
   "source": [
    "import numpy as np"
   ]
  },
  {
   "cell_type": "code",
   "execution_count": 22,
   "metadata": {
    "collapsed": true
   },
   "outputs": [],
   "source": [
    "class Tensor(object):\n",
    "    \"\"\"docstring for tensor\"\"\"\n",
    "    def __init__(self, initial_value,op,graph):\n",
    "        self.initial_value = initial_value\n",
    "        self.graph = graph\n",
    "        self.op = op\n",
    "\n",
    "    def __add__(self, other): # change the + operateor's methods, other is another self \n",
    "        return self.graph.add(self, other)\n",
    "    def __radd__(self, other):\n",
    "        return self.graph.add(other, self)"
   ]
  },
  {
   "cell_type": "code",
   "execution_count": 23,
   "metadata": {
    "collapsed": false
   },
   "outputs": [],
   "source": [
    "class BaseOp(object):\n",
    "    \"\"\"docstring for BaseOp\"\"\"\n",
    "    def __init__(self, inputs,graph):\n",
    "        self.inputs = [graph.convert(input_) for input_ in inputs]\n",
    "        self.output = graph.tensor(op=self)\n",
    "        self.graph  = graph\n",
    "\n",
    "    def compute(self,sess,*args):\n",
    "        raise NotImplementedError()\n",
    "    def gradient(self,grad):\n",
    "        raise NotImplementedError()\n",
    "'''\n",
    "class myParent( object ):\n",
    "    def __init__( self, customParam ):\n",
    "        self.parentNumber = 5\n",
    "        self.customParam = customParam\n",
    "\n",
    "class Child( myParent ):\n",
    "    def __init__( self, customParam ):\n",
    "        myParent.__init__( self, customParam )\n",
    "        self.childNumber = 4        \n",
    "'''        \n",
    "        \n",
    "class AddOp(BaseOp):\n",
    "    def __init__(self, inputs,graph):\n",
    "        BaseOp.__init__(self, inputs,graph)\n",
    "        print(\"11111111111 is :\"+str(inputs[0].initial_value))\n",
    "        if inputs[0] is not None and inputs[1] is not None:\n",
    "            self.output = graph.convert(   self.compute(inputs[0],inputs[1])   )\n",
    "        #self.output = graph.convert(1000000000000000000000000000000)\n",
    "    def compute(self,a=0,b=0):\n",
    "        #a = self.inputs[0].initial_value\n",
    "        #b = self.inputs[1].initial_value\n",
    "        return a.initial_value + b.initial_value\n",
    "    def gradient(self,grad):\n",
    "        return [grad,grad]\n"
   ]
  },
  {
   "cell_type": "code",
   "execution_count": 24,
   "metadata": {
    "collapsed": true
   },
   "outputs": [],
   "source": [
    "class Graph(object):\n",
    "\t\"\"\"docstring for Graph\"\"\"\n",
    "\tdef tensor(self,initial_value=None,op=None):\n",
    "\t\treturn Tensor(initial_value=initial_value,op=op,graph=self)\n",
    "\n",
    "\tdef convert(self,value):\n",
    "\t\tif isinstance(value,Tensor):\n",
    "\t\t\treturn value\n",
    "\t\treturn self.tensor(initial_value=value)\n",
    "\n",
    "\tdef gradients(self,y,x_s):\n",
    "\n",
    "\t\t'''\n",
    "\t\t>>>queue.append(([1,1],1))\n",
    "\t\t>>>queue.pop(0)\n",
    "\t\t([1, 1], 1)\n",
    "\n",
    "\n",
    "\n",
    "    \tloss_op = graph.mean(graph.square(graph.transpose(y) - activations1))\n",
    "    \tparameters = [weights0, biases0, weights1, biases1]\n",
    "\n",
    "    \tgradients = graph.gradients(loss_op, parameters)\n",
    "\t\t'''\n",
    "\t\tqueue = []\n",
    "\t\tqueue.append((y,1))\n",
    "\n",
    "\t\tgrads = {}\n",
    "\n",
    "\t\twhile len(queue)>0:\n",
    "\t\t\ty,grad_y = queue.pop(0)\n",
    "\t\t\tgrad_y = self.convert(grad_y) #convert grad_y to a tensor\n",
    "\t\t\tprint(y.op)\n",
    "\t\t\t#gradients = y.op.gradient(grad_y)\n",
    "\t\treturn gradients\n",
    "\n",
    "\tdef add(self,a,b):\n",
    "\t\top = AddOp([a,b],graph=self)\n",
    "\t\treturn op.output"
   ]
  },
  {
   "cell_type": "code",
   "execution_count": 25,
   "metadata": {
    "collapsed": true
   },
   "outputs": [],
   "source": [
    "class Session(object):\n",
    "    def __init__(self, graph):\n",
    "        self.graph = graph\n",
    "        self.state = {}\n",
    "        \n",
    "    def run_op(self, op, context):\n",
    "        args = [self.eval_tensor(tensor, context) for tensor in op.inputs]\n",
    "        return op.compute(self, *args)\n",
    "    \n",
    "    def eval_tensor(self, tensor, context):\n",
    "        \n",
    "        if tensor not in context:\n",
    "            if tensor.op is not None:\n",
    "                context[tensor] = self.run_op(tensor.op, context) #let context add the value in op.input\n",
    "            elif tensor in self.state and self.state[tensor] is not None:\n",
    "                context[tensor] = self.state[tensor]              #let context add the value in self.state\n",
    "            elif tensor not in self.state and tensor.initial_value is not None:\n",
    "                context[tensor] = self.state[tensor] = tensor.initial_value\n",
    "                                                        #let context add the value by the initial_value of tensor\n",
    "        return context[tensor]\n",
    "    def run(self, tensors, feed_dict=None):\n",
    "        \n",
    "        context = {}\n",
    "\n",
    "        if feed_dict:\n",
    "            context.update(feed_dict)\n",
    "\n",
    "        return [self.eval_tensor(tensor, context) for tensor in tensors]"
   ]
  },
  {
   "cell_type": "code",
   "execution_count": 26,
   "metadata": {
    "collapsed": false
   },
   "outputs": [
    {
     "name": "stdout",
     "output_type": "stream",
     "text": [
      "11111111111 is :2\n",
      "7\n",
      "None\n"
     ]
    }
   ],
   "source": [
    "graph = Graph()\n",
    "a = graph.tensor(2)\n",
    "b = graph.tensor(5)\n",
    "c = a + b\n",
    "print(c.initial_value)\n",
    "print(c.op)\n",
    "#grad_a, grad_b = graph.gradients(c, [a, b])\n",
    "\n",
    "#sess = Session(graph)\n",
    "#grad_a_, grad_b_ = sess.run([grad_a, grad_b], feed_dict={a: 2, b: 1})\n",
    "#print(grad_a_)\n",
    "#print(grad_b_)"
   ]
  },
  {
   "cell_type": "code",
   "execution_count": null,
   "metadata": {
    "collapsed": true
   },
   "outputs": [],
   "source": []
  }
 ],
 "metadata": {
  "kernelspec": {
   "display_name": "Python [Root]",
   "language": "python",
   "name": "Python [Root]"
  },
  "language_info": {
   "codemirror_mode": {
    "name": "ipython",
    "version": 2
   },
   "file_extension": ".py",
   "mimetype": "text/x-python",
   "name": "python",
   "nbconvert_exporter": "python",
   "pygments_lexer": "ipython2",
   "version": "2.7.12"
  }
 },
 "nbformat": 4,
 "nbformat_minor": 0
}
