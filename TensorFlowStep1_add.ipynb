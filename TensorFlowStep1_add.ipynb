{
 "cells": [
  {
   "cell_type": "code",
   "execution_count": 1,
   "metadata": {
    "collapsed": true
   },
   "outputs": [],
   "source": [
    "import numpy as np"
   ]
  },
  {
   "cell_type": "code",
   "execution_count": 2,
   "metadata": {
    "collapsed": true
   },
   "outputs": [],
   "source": [
    "class Tensor(object):\n",
    "    \"\"\"docstring for tensor\"\"\"\n",
    "    def __init__(self, initial_value,op,graph):\n",
    "        self.initial_value = initial_value\n",
    "        self.graph = graph\n",
    "        self.op = op\n",
    "\n",
    "    def __add__(self, other): # change the + operateor's methods, other is another self \n",
    "        return self.graph.add(self, other)"
   ]
  },
  {
   "cell_type": "code",
   "execution_count": 3,
   "metadata": {
    "collapsed": true
   },
   "outputs": [],
   "source": [
    "class BaseOp(object):\n",
    "    \"\"\"docstring for BaseOp\"\"\"\n",
    "    def __init__(self, inputs,graph):\n",
    "        self.inputs = [graph.convert(input_) for input_ in inputs]\n",
    "        self.output = graph.tensor(op=self)\n",
    "        self.graph  = graph\n",
    "\n",
    "    def compute(self,sess,*args):\n",
    "        raise NotImplementedError()\n",
    "    def gradient(self,grad):\n",
    "        raise NotImplementedError()\n",
    "'''\n",
    "class myParent( object ):\n",
    "    def __init__( self, customParam ):\n",
    "        self.parentNumber = 5\n",
    "        self.customParam = customParam\n",
    "\n",
    "class Child( myParent ):\n",
    "    def __init__( self, customParam ):\n",
    "        myParent.__init__( self, customParam )\n",
    "        self.childNumber = 4        \n",
    "'''        \n",
    "        \n",
    "class AddOp(BaseOp):\n",
    "    def __init__(self, inputs,graph):\n",
    "        BaseOp.__init__(self, inputs,graph)\n",
    "        self.output = graph.convert(   self.compute(inputs[0],inputs[1])   )\n",
    "        #self.output = graph.convert(1000000000000000000000000000000)\n",
    "    def compute(self,a=0,b=0):\n",
    "        #a = self.inputs[0].initial_value\n",
    "        #b = self.inputs[1].initial_value\n",
    "        return a.initial_value + b.initial_value\n",
    "    def gradient(self,grad):\n",
    "        return [grad,grad]"
   ]
  },
  {
   "cell_type": "code",
   "execution_count": 4,
   "metadata": {
    "collapsed": true
   },
   "outputs": [],
   "source": [
    "class Graph(object):\n",
    "\t\"\"\"docstring for Graph\"\"\"\n",
    "\tdef tensor(self,initial_value=None,op=None):\n",
    "\t\treturn Tensor(initial_value=initial_value,op=op,graph=self)\n",
    "\n",
    "\tdef convert(self,value):\n",
    "\t\tif isinstance(value,Tensor):\n",
    "\t\t\treturn value\n",
    "\t\treturn self.tensor(initial_value=value)\n",
    "\n",
    "\tdef gradients(self,y,x_s):\n",
    "\n",
    "\t\t'''\n",
    "\t\t>>>queue.append(([1,1],1))\n",
    "\t\t>>>queue.pop(0)\n",
    "\t\t([1, 1], 1)\n",
    "\n",
    "\n",
    "\n",
    "    \tloss_op = graph.mean(graph.square(graph.transpose(y) - activations1))\n",
    "    \tparameters = [weights0, biases0, weights1, biases1]\n",
    "\n",
    "    \tgradients = graph.gradients(loss_op, parameters)\n",
    "\t\t'''\n",
    "\t\tqueue = []\n",
    "\t\tqueue.append((y,1))\n",
    "\n",
    "\t\tgrads = {}\n",
    "\n",
    "\t\twhile len(queue)>0:\n",
    "\t\t\ty,grad_y = queue.pop(0)\n",
    "\t\t\tgrad_y = self.convert(grad_y) #convert grad_y to a tensor\n",
    "\n",
    "\t\t\tgradients = y.op.gradient(grad_y)\n",
    "\t\treturn gradients\n",
    "\n",
    "\tdef add(self,a,b):\n",
    "\t\top = AddOp([a,b],graph=self)\n",
    "\t\treturn op.output"
   ]
  },
  {
   "cell_type": "code",
   "execution_count": 5,
   "metadata": {
    "collapsed": true
   },
   "outputs": [],
   "source": [
    "test_graph = Graph()\n",
    "test_X = test_graph.tensor([1,'2','a']) \n",
    "test_Y = test_graph.tensor([3,4,'b'])"
   ]
  },
  {
   "cell_type": "code",
   "execution_count": 6,
   "metadata": {
    "collapsed": false
   },
   "outputs": [
    {
     "name": "stdout",
     "output_type": "stream",
     "text": [
      "<__main__.Tensor object at 0x7f2c7c12fa50>\n",
      "<__main__.Tensor object at 0x7f2c7c12fb10>\n",
      "[1, '2', 'a']\n",
      "[3, 4, 'b']\n",
      "None\n",
      "None\n"
     ]
    }
   ],
   "source": [
    "print(test_X)\n",
    "print(test_Y)\n",
    "print(test_X.initial_value)\n",
    "print(test_Y.initial_value)\n",
    "print(test_X.op)\n",
    "print(test_Y.op)"
   ]
  },
  {
   "cell_type": "code",
   "execution_count": 7,
   "metadata": {
    "collapsed": false
   },
   "outputs": [
    {
     "name": "stdout",
     "output_type": "stream",
     "text": [
      "[1, '2', 'a', 3, 4, 'b', 1, '2', 'a']\n"
     ]
    }
   ],
   "source": [
    "test_Z = test_X + test_Y + test_X\n",
    "print(test_Z.initial_value)"
   ]
  },
  {
   "cell_type": "code",
   "execution_count": null,
   "metadata": {
    "collapsed": true
   },
   "outputs": [],
   "source": []
  }
 ],
 "metadata": {
  "kernelspec": {
   "display_name": "Python [Root]",
   "language": "python",
   "name": "Python [Root]"
  },
  "language_info": {
   "codemirror_mode": {
    "name": "ipython",
    "version": 2
   },
   "file_extension": ".py",
   "mimetype": "text/x-python",
   "name": "python",
   "nbconvert_exporter": "python",
   "pygments_lexer": "ipython2",
   "version": "2.7.12"
  }
 },
 "nbformat": 4,
 "nbformat_minor": 0
}
